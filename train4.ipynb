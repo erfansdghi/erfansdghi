{
  "nbformat": 4,
  "nbformat_minor": 0,
  "metadata": {
    "colab": {
      "provenance": [],
      "authorship_tag": "ABX9TyO1Nbiq+z7W0PEs+9llEho/",
      "include_colab_link": true
    },
    "kernelspec": {
      "name": "python3",
      "display_name": "Python 3"
    },
    "language_info": {
      "name": "python"
    }
  },
  "cells": [
    {
      "cell_type": "markdown",
      "metadata": {
        "id": "view-in-github",
        "colab_type": "text"
      },
      "source": [
        "<a href=\"https://colab.research.google.com/github/erfansdghi/erfansdghi/blob/main/train4.ipynb\" target=\"_parent\"><img src=\"https://colab.research.google.com/assets/colab-badge.svg\" alt=\"Open In Colab\"/></a>"
      ]
    },
    {
      "cell_type": "code",
      "execution_count": 1,
      "metadata": {
        "id": "14tD8HtOdjM8",
        "outputId": "a79ea703-108c-4645-d2b0-97a1aff7f6ab",
        "colab": {
          "base_uri": "https://localhost:8080/"
        }
      },
      "outputs": [
        {
          "output_type": "stream",
          "name": "stdout",
          "text": [
            "Original Linked List:\n",
            "1-->2-->3-->None\n",
            "\n",
            "Linked List after adding 0 at the start:\n",
            "0-->1-->2-->3-->None\n",
            "\n",
            "Linked List after adding 5 after 2:\n",
            "0-->1-->2-->5-->3-->None\n",
            "\n",
            "Linked List after deleting the first element:\n",
            "1-->2-->5-->3-->None\n"
          ]
        }
      ],
      "source": [
        "class Node:\n",
        "\n",
        "  def __init__(self,d):\n",
        "    self.data = d\n",
        "    self.next = None\n",
        "\n",
        "class linkedList:\n",
        "\n",
        "  def __init__(self):\n",
        "    self.head =  None\n",
        "\n",
        "  def display(self):\n",
        "    t = self.head\n",
        "    while(t != None):\n",
        "      print(t.data,end = '-->')\n",
        "      t = t.next\n",
        "    print(None)\n",
        "\n",
        "  def addinstart(self,data):\n",
        "    n = Node(data)\n",
        "    n.next = self.head\n",
        "    self.head = n\n",
        "\n",
        "  def addinend(self,data):\n",
        "    n = Node(data)\n",
        "    t = self.head\n",
        "    if (t == None):\n",
        "      self.head = n\n",
        "    else:\n",
        "      while (t.next != None):\n",
        "        t = t.next\n",
        "      t.next = n\n",
        "\n",
        "  def addafter(self,m,data):\n",
        "    n = Node(data)\n",
        "    t= self.head\n",
        "    while(t.data != m):\n",
        "      t = t.next\n",
        "    n.next = t.next\n",
        "    t.next = n\n",
        "\n",
        "  def delfirst(self):\n",
        "    if(self.head == None):\n",
        "      return 'empty'\n",
        "    else:\n",
        "      self.head = self.head.next\n",
        "\n",
        "  def dellast(self):\n",
        "    t = self.head\n",
        "    if(t == None):\n",
        "      return 'empty'\n",
        "    elif(t.next == None):\n",
        "      t = None\n",
        "    else:\n",
        "      while(t.next.next != None):\n",
        "        t = t.next\n",
        "      t.next = None\n",
        "\n",
        "  def delafter(self,m):\n",
        "    t = self.head\n",
        "    while(t.data != m):\n",
        "      t = t.next\n",
        "    t.next = t.next.next\n",
        "\n",
        "\n",
        "# Create a linked list\n",
        "my_linked_list = linkedList()\n",
        "\n",
        "# Add elements to the linked list\n",
        "my_linked_list.addinend(1)\n",
        "my_linked_list.addinend(2)\n",
        "my_linked_list.addinend(3)\n",
        "\n",
        "# Display the linked list\n",
        "print(\"Original Linked List:\")\n",
        "my_linked_list.display()\n",
        "\n",
        "# Add an element in the start\n",
        "my_linked_list.addinstart(0)\n",
        "print(\"\\nLinked List after adding 0 at the start:\")\n",
        "my_linked_list.display()\n",
        "\n",
        "# Add an element after a specific element\n",
        "my_linked_list.addafter(2, 5)\n",
        "print(\"\\nLinked List after adding 5 after 2:\")\n",
        "my_linked_list.display()\n",
        "\n",
        "# Delete the first element\n",
        "my_linked_list.delfirst()\n",
        "print(\"\\nLinked List after deleting the first element:\")\n",
        "my_linked_list.display()\n",
        "\n",
        "# Delete the last element\n",
        "my_linked_list.dellast()"
      ]
    }
  ]
}