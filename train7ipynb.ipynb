{
  "nbformat": 4,
  "nbformat_minor": 0,
  "metadata": {
    "colab": {
      "provenance": [],
      "authorship_tag": "ABX9TyNRMk2nCEPRJJJn6aU+JMO9",
      "include_colab_link": true
    },
    "kernelspec": {
      "name": "python3",
      "display_name": "Python 3"
    },
    "language_info": {
      "name": "python"
    }
  },
  "cells": [
    {
      "cell_type": "markdown",
      "metadata": {
        "id": "view-in-github",
        "colab_type": "text"
      },
      "source": [
        "<a href=\"https://colab.research.google.com/github/erfansdghi/erfansdghi/blob/main/train7ipynb.ipynb\" target=\"_parent\"><img src=\"https://colab.research.google.com/assets/colab-badge.svg\" alt=\"Open In Colab\"/></a>"
      ]
    },
    {
      "cell_type": "code",
      "execution_count": 2,
      "metadata": {
        "id": "C-O0gUG7ivbV",
        "colab": {
          "base_uri": "https://localhost:8080/"
        },
        "outputId": "677751a2-f824-4c5b-91f5-b2de60446ab5"
      },
      "outputs": [
        {
          "output_type": "stream",
          "name": "stdout",
          "text": [
            "inorder:\n",
            "4\n",
            "2\n",
            "5\n",
            "1\n",
            "3\n",
            "postorder:\n",
            "4\n",
            "5\n",
            "2\n",
            "3\n",
            "1\n",
            "preorder:\n",
            "1\n",
            "2\n",
            "4\n",
            "5\n",
            "3\n"
          ]
        }
      ],
      "source": [
        "\n",
        "\n",
        "class BTnode:\n",
        "\n",
        "  def __init__(self, data, left = None, right = None):\n",
        "    self.data = data\n",
        "    self.right = right\n",
        "    self.left = left\n",
        "\n",
        "n = BTnode(1,BTnode(2),BTnode(3,None,BTnode(4)))\n",
        "\n",
        "\n",
        "class BTree:\n",
        "\n",
        "  def __init__(self, root = None):\n",
        "    self.root = root\n",
        "\n",
        "  # LNR order (in Order)\n",
        "  def inorder(self, root):\n",
        "    if root == None :\n",
        "      return\n",
        "    else:\n",
        "      self.inorder(root.left)\n",
        "      print(root.data)\n",
        "      self.inorder(root.right)\n",
        "\n",
        "  # LRN order (post Order)\n",
        "  def postorder(self, root):\n",
        "    if root == None :\n",
        "      return\n",
        "    else:\n",
        "      self.postorder(root.left)\n",
        "      self.postorder(root.right)\n",
        "      print(root.data)\n",
        "\n",
        "   # NLR order (pre Order)\n",
        "  def preorder(self, root):\n",
        "    if root == None :\n",
        "      return\n",
        "    else:\n",
        "      print(root.data)\n",
        "      self.preorder(root.left)\n",
        "      self.preorder(root.right)\n",
        "\n",
        "\n",
        "\n",
        "\n",
        "\n",
        "tree = BTnode(1,BTnode(2,BTnode(4),BTnode(5)),BTnode(3))\n",
        "\n",
        "tree1 = BTree()\n",
        "\n",
        "print('inorder:')\n",
        "tree1.inorder(tree)\n",
        "\n",
        "print('postorder:')\n",
        "tree1.postorder(tree)\n",
        "\n",
        "print('preorder:')\n",
        "tree1.preorder(tree)\n",
        "\n"
      ]
    }
  ]
}